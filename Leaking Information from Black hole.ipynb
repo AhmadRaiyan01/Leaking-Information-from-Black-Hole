{
 "cells": [
  {
   "cell_type": "code",
   "execution_count": null,
   "metadata": {},
   "outputs": [
    {
     "name": "stdout",
     "output_type": "stream",
     "text": [
      "Relative Entropy (KL Divergence): 0.00042918045994144727\n"
     ]
    }
   ],
   "source": [
    "from qiskit import QuantumCircuit\n",
    "from qiskit import transpile\n",
    "from qiskit import assemble\n",
    "from qiskit_aer import AerSimulator\n",
    "from qiskit.visualization import plot_histogram\n",
    "from qiskit_ibm_runtime import QiskitRuntimeService\n",
    "import numpy as np\n",
    "from scipy.special import kl_div\n",
    "\n",
    "service = QiskitRuntimeService()\n",
    "\n",
    "qc = QuantumCircuit(2, 2)\n",
    "\n",
    "qc.h(0) \n",
    "qc.cx(0, 1) \n",
    "\n",
    "qc.x(0) \n",
    "qc.z(1) \n",
    "qc.x(0) \n",
    "qc.z(1) \n",
    "\n",
    "qc.measure([0, 1], [0, 1]) \n",
    "\n",
    "simulator = AerSimulator()\n",
    "tqc = transpile(qc, simulator)\n",
    "\n",
    "result = simulator.run(tqc).result()\n",
    "counts = result.get_counts() \n",
    "plot_histogram(counts) \n",
    "\n",
    "pre_counts = {'01' : 524, '10' : 500}\n",
    "post_counts = {'01' : 509, '10' : 515}\n",
    "\n",
    "pre_probabilities = np.array([pre_counts.get(state, 0) for state in ['01' , '10']]) / sum(pre_counts.values())\n",
    "post_probabilities = np.array([post_counts.get(state, 0) for state in ['01' , '10']]) / sum(post_counts.values())\n",
    "\n",
    "\n",
    "relative_entropy = np.sum(kl_div(pre_probabilities, post_probabilities))\n",
    "\n",
    "print(f\"Relative Entropy (KL Divergence): {relative_entropy}\")\n",
    "\n",
    "\n",
    "\n"
   ]
  }
 ],
 "metadata": {
  "kernelspec": {
   "display_name": "cwq",
   "language": "python",
   "name": "python3"
  },
  "language_info": {
   "codemirror_mode": {
    "name": "ipython",
    "version": 3
   },
   "file_extension": ".py",
   "mimetype": "text/x-python",
   "name": "python",
   "nbconvert_exporter": "python",
   "pygments_lexer": "ipython3",
   "version": "3.13.2"
  }
 },
 "nbformat": 4,
 "nbformat_minor": 2
}
